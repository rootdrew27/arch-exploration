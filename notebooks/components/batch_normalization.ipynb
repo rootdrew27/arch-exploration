{
 "cells": [
  {
   "cell_type": "code",
   "execution_count": 2,
   "metadata": {},
   "outputs": [],
   "source": [
    "import torch\n",
    "import torch.nn as nn\n",
    "import torch.functional as F\n",
    "import matplotlib.pyplot as plt\n",
    "from torch import Tensor"
   ]
  },
  {
   "cell_type": "markdown",
   "metadata": {},
   "source": [
    "### Implementation of Batch Normalization"
   ]
  },
  {
   "cell_type": "code",
   "execution_count": 3,
   "metadata": {},
   "outputs": [],
   "source": [
    "# batch\n",
    "# the batch size is 20 and inputs are 5d arrays\n",
    "\n",
    "X = torch.randn(20,1,1,5)\n"
   ]
  },
  {
   "cell_type": "code",
   "execution_count": 4,
   "metadata": {},
   "outputs": [
    {
     "name": "stdout",
     "output_type": "stream",
     "text": [
      "mean: tensor([0., 0.])\n",
      "var: tensor([1.0000, 1.0000])\n"
     ]
    }
   ],
   "source": [
    "# sanity check of normalization operation\n",
    "\n",
    "# Note: greater precision is required to pass these tests when using floating point inputs \n",
    "\n",
    "x = torch.tensor([[4,2], [6,10]], dtype=torch.float32)\n",
    "n_x = (x - x.mean(dim=0)) / x.var(0).sqrt() \n",
    "print(f'mean: {n_x.mean(0)}') # should be zero \n",
    "print(f'var: {n_x.var(0)}') # should be one"
   ]
  },
  {
   "cell_type": "code",
   "execution_count": 8,
   "metadata": {},
   "outputs": [],
   "source": [
    "class MyBatchNorm(nn.Module):\n",
    "    def __init__(self, num_feats:int, track_running = False):\n",
    "        super(MyBatchNorm, self).__init__()\n",
    "        \n",
    "        self.g = nn.Parameter(torch.ones(1, num_feats)) # gamma (scale)\n",
    "        self.b = nn.Parameter(torch.zeros(1, num_feats)) # beta (shift)\n",
    "        \n",
    "        self.eps = torch.tensor(0.001) # epsilon\n",
    "        \n",
    "        self.track_running = track_running\n",
    "        self.running_mean = 0 if track_running else None\n",
    "        self.running_var = 1 if track_running else None\n",
    "        self.momentum = 0.1 if track_running else None\n",
    "          \n",
    "    def forward(self, x:Tensor):\n",
    "        mean = x.mean(dim=0)\n",
    "        var = x.var(dim=0)\n",
    "                \n",
    "        n_x = (x - mean) / (var + self.eps).sqrt() \n",
    "        \n",
    "        out = self.g * n_x + self.b # apply affine transformation\n",
    "        \n",
    "        if self.track_running:\n",
    "            self.running_mean = (1 - self.momentum) * self.running_mean + self.momentum * mean  \n",
    "            self.running_var = (1 - self.momentum) * self.running_var + self.momentum * var\n",
    "        \n",
    "        return out"
   ]
  },
  {
   "cell_type": "code",
   "execution_count": 14,
   "metadata": {},
   "outputs": [],
   "source": [
    "torch.manual_seed(42) # for reproducibility\n",
    "\n",
    "n_out = MyBatchNorm(X.shape[-1], track_running=True)(X)"
   ]
  },
  {
   "cell_type": "code",
   "execution_count": 15,
   "metadata": {},
   "outputs": [
    {
     "data": {
      "text/plain": [
       "tensor([[[[ 0.4136,  1.0143,  0.9512, -0.5985,  1.2037]]],\n",
       "\n",
       "\n",
       "        [[[ 0.6544, -1.0698, -0.8482, -0.4151, -0.1756]]],\n",
       "\n",
       "\n",
       "        [[[ 0.4210,  0.2651,  0.2415,  1.6280,  1.2487]]],\n",
       "\n",
       "\n",
       "        [[[-0.8418, -0.5261, -0.9307,  1.2942, -0.9302]]],\n",
       "\n",
       "\n",
       "        [[[ 0.6667,  0.8937,  1.1935,  0.0924,  1.5194]]],\n",
       "\n",
       "\n",
       "        [[[-0.1991, -0.3589,  1.0229,  0.6780,  1.0011]]],\n",
       "\n",
       "\n",
       "        [[[-2.1048, -1.0118, -0.7832,  1.2787,  0.0391]]],\n",
       "\n",
       "\n",
       "        [[[-0.9924, -1.0418, -0.9804, -0.6197, -0.6769]]],\n",
       "\n",
       "\n",
       "        [[[ 0.5459, -0.7028, -2.0770,  2.1612,  0.7681]]],\n",
       "\n",
       "\n",
       "        [[[ 0.5409,  1.7770, -0.6982, -1.1653,  0.2736]]],\n",
       "\n",
       "\n",
       "        [[[-0.4789, -0.1909,  0.5242, -0.4069, -1.2589]]],\n",
       "\n",
       "\n",
       "        [[[-1.5301,  2.3469,  0.5438,  0.1440,  0.0774]]],\n",
       "\n",
       "\n",
       "        [[[ 1.9908, -0.9825,  0.2264, -0.3796, -1.6928]]],\n",
       "\n",
       "\n",
       "        [[[ 0.7313, -0.4806,  0.9011, -0.2341, -2.1980]]],\n",
       "\n",
       "\n",
       "        [[[-0.1189,  1.0230, -0.3180,  0.2879,  0.2401]]],\n",
       "\n",
       "\n",
       "        [[[ 1.5075,  0.2922, -1.4836, -1.6857, -0.5960]]],\n",
       "\n",
       "\n",
       "        [[[-0.7173, -0.1344, -0.1882,  0.3329, -0.2998]]],\n",
       "\n",
       "\n",
       "        [[[-0.4278,  0.1148,  1.2221, -1.1265,  0.3741]]],\n",
       "\n",
       "\n",
       "        [[[ 0.6584, -1.3623, -0.0421, -0.8669,  0.7811]]],\n",
       "\n",
       "\n",
       "        [[[-0.7195,  0.1349,  1.5231, -0.3990,  0.3020]]]],\n",
       "       grad_fn=<AddBackward0>)"
      ]
     },
     "execution_count": 15,
     "metadata": {},
     "output_type": "execute_result"
    }
   ],
   "source": [
    "n_out"
   ]
  },
  {
   "cell_type": "code",
   "execution_count": 23,
   "metadata": {},
   "outputs": [],
   "source": [
    "a = MyBatchNorm(5, track_running=True)"
   ]
  },
  {
   "cell_type": "code",
   "execution_count": 24,
   "metadata": {},
   "outputs": [
    {
     "data": {
      "text/plain": [
       "tensor([[[ 0.0105, -0.0249,  0.0293,  0.0077,  0.0426]]])"
      ]
     },
     "execution_count": 24,
     "metadata": {},
     "output_type": "execute_result"
    }
   ],
   "source": [
    "a(X)\n",
    "a.running_mean"
   ]
  }
 ],
 "metadata": {
  "kernelspec": {
   "display_name": "Arch Exploration",
   "language": "python",
   "name": "python3"
  },
  "language_info": {
   "codemirror_mode": {
    "name": "ipython",
    "version": 3
   },
   "file_extension": ".py",
   "mimetype": "text/x-python",
   "name": "python",
   "nbconvert_exporter": "python",
   "pygments_lexer": "ipython3",
   "version": "3.10.6"
  }
 },
 "nbformat": 4,
 "nbformat_minor": 2
}

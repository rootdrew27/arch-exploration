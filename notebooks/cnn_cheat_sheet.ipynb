{
 "cells": [
  {
   "cell_type": "code",
   "execution_count": 4,
   "metadata": {},
   "outputs": [],
   "source": [
    "import torch\n",
    "import torch.nn as nn\n",
    "import math"
   ]
  },
  {
   "cell_type": "code",
   "execution_count": 5,
   "metadata": {},
   "outputs": [],
   "source": [
    "# Calculate Channel Output Size\n",
    "\n",
    "# O = ((I - F + P_start + P_end) / S) + 1\n",
    "\n",
    "def get_output_size(in_h, in_w, f_h, f_w, p_h, p_w, stride_h, stride_w):\n",
    "    \n",
    "    out_h = math.floor(( ( in_h + ( 2 * p_h ) -  (f_h - 1) - 1 ) / stride_h ) + 1)\n",
    "    out_w = math.floor(( ( in_w + ( 2 * p_w ) -  (f_w - 1) - 1 ) / stride_w ) + 1)\n",
    "    \n",
    "    print(f'The output height dimension is: {out_h}')\n",
    "    print(f'The output width dimension is: {out_w}')\n",
    "    \n",
    "    return (out_h, out_w)"
   ]
  },
  {
   "cell_type": "code",
   "execution_count": 6,
   "metadata": {},
   "outputs": [
    {
     "name": "stdout",
     "output_type": "stream",
     "text": [
      "The output height dimension is: 7\n",
      "The output width dimension is: 7\n"
     ]
    }
   ],
   "source": [
    "h, w = get_output_size(in_h=16, in_w=16, f_h=3, f_w=3, p_h=0, p_w=0, stride_h=2, stride_w=2)"
   ]
  },
  {
   "cell_type": "code",
   "execution_count": 7,
   "metadata": {},
   "outputs": [],
   "source": [
    "# Calculate the number of parameters that a Conv layer has\n",
    "\n",
    "def get_param_count(in_c, out_c, f_h, f_w, groups, bias:bool) -> tuple[int] | int :\n",
    "\n",
    "    p_list = [p.numel() for p in nn.Conv2d(in_c,out_c, kernel_size=(f_h,f_w), stride=1, groups=1, bias=bias).parameters()]\n",
    "    \n",
    "    if len(p_list) > 1:\n",
    "        \n",
    "        print(f'Filter param count: {p_list[0]}')\n",
    "        print(f'Bias param count: {p_list[1]}')\n",
    "        \n",
    "        return (p_list[0], p_list[1])\n",
    "    \n",
    "    else:\n",
    "        \n",
    "        print(f'Filter param count: {p_list[0]}')\n",
    "        \n",
    "        return p_list[0]"
   ]
  },
  {
   "cell_type": "code",
   "execution_count": 9,
   "metadata": {},
   "outputs": [
    {
     "name": "stdout",
     "output_type": "stream",
     "text": [
      "Filter param count: 192\n"
     ]
    },
    {
     "data": {
      "text/plain": [
       "192"
      ]
     },
     "execution_count": 9,
     "metadata": {},
     "output_type": "execute_result"
    }
   ],
   "source": [
    "get_param_count(3,64,1,1,1,False)"
   ]
  },
  {
   "cell_type": "code",
   "execution_count": null,
   "metadata": {},
   "outputs": [],
   "source": []
  }
 ],
 "metadata": {
  "kernelspec": {
   "display_name": "Arch Exploration",
   "language": "python",
   "name": "python3"
  },
  "language_info": {
   "codemirror_mode": {
    "name": "ipython",
    "version": 3
   },
   "file_extension": ".py",
   "mimetype": "text/x-python",
   "name": "python",
   "nbconvert_exporter": "python",
   "pygments_lexer": "ipython3",
   "version": "3.10.6"
  }
 },
 "nbformat": 4,
 "nbformat_minor": 2
}

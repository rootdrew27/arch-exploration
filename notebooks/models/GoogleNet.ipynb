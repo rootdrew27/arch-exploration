{
 "cells": [
  {
   "cell_type": "markdown",
   "metadata": {},
   "source": [
    "## GoogleNet \n",
    "Batch Normalization is performed before each ReLU operation"
   ]
  },
  {
   "cell_type": "code",
   "execution_count": 20,
   "metadata": {},
   "outputs": [],
   "source": [
    "import torch\n",
    "import torch.nn as nn\n",
    "import torch.nn.functional as F"
   ]
  },
  {
   "cell_type": "code",
   "execution_count": 38,
   "metadata": {},
   "outputs": [],
   "source": [
    "class Inception(nn.Module):\n",
    "    def __init__(self, c1, c2, c3, c4, **kwargs):\n",
    "        super(Inception, self).__init__(**kwargs)\n",
    "        \n",
    "        self.b1 = nn.LazyConv2d(c1, kernel_size=1)\n",
    "        self.bn1 = nn.BatchNorm2d(c1)        \n",
    "        \n",
    "        self.b2_1 = nn.LazyConv2d(c2[0], kernel_size=1)\n",
    "        self.bn2_1 = nn.BatchNorm2d(c2[0])\n",
    "        self.b2_2 = nn.LazyConv2d(c2[1], kernel_size=3, padding=1)\n",
    "        self.bn2_2 = nn.BatchNorm2d(c2[1])    \n",
    "        \n",
    "        self.b3_1 = nn.LazyConv2d(c3[0], kernel_size=1)\n",
    "        self.bn3_1 = nn.BatchNorm2d(c3[0])\n",
    "        self.b3_2 = nn.LazyConv2d(c3[1], kernel_size=5, padding=2)\n",
    "        self.bn3_2 = nn.BatchNorm2d(c3[1])\n",
    "        \n",
    "        self.b4_1 = nn.MaxPool2d(kernel_size=3, stride=1, padding=1)\n",
    "        self.b4_2 = nn.LazyConv2d(c4, kernel_size=1)\n",
    "        self.bn4 = nn.BatchNorm2d(c4) \n",
    "        \n",
    "    def forward(self, x):\n",
    "        b1 = F.relu(self.bn1(self.b1(x)))\n",
    "        b2 = F.relu(self.bn2_2(self.b2_2(F.relu(self.bn2_1(self.b2_1(x))))))\n",
    "        b3 = F.relu(self.bn3_2(self.b3_2(F.relu(self.bn3_1(self.b3_1(x))))))\n",
    "        b4 = F.relu(self.bn4(self.b4_2(self.b4_1(x))))\n",
    "        \n",
    "        return torch.cat((b1, b2, b3, b4), dim=1) # concat on the channel dim"
   ]
  },
  {
   "cell_type": "code",
   "execution_count": 40,
   "metadata": {},
   "outputs": [],
   "source": [
    "class GoogleNet(nn.Module):\n",
    "    def __init__(self, num_classes):\n",
    "        super(GoogleNet, self).__init__()\n",
    "        self.backbone_1 = nn.Sequential(\n",
    "            nn.LazyConv2d(64, kernel_size=7, stride=2, padding=3),\n",
    "            nn.BatchNorm2d(64),\n",
    "            nn.ReLU(),\n",
    "            nn.MaxPool2d(kernel_size=3, stride=2, padding=1)                        \n",
    "        )\n",
    "        self.backbone_2 = nn.Sequential(\n",
    "            nn.LazyConv2d(64, kernel_size=1),\n",
    "            nn.BatchNorm2d(64),\n",
    "            nn.ReLU(),\n",
    "            nn.MaxPool2d(kernel_size=3, stride=2, padding=1)\n",
    "        )\n",
    "        self.neck_1 = nn.Sequential(\n",
    "            Inception(64, (96, 128), (16, 32), 32),\n",
    "            Inception(128, (128, 192),  (32, 96), 64),\n",
    "            nn.MaxPool2d(kernel_size=3, stride=2, padding=1)\n",
    "        )\n",
    "        self.neck_2 = nn.Sequential(\n",
    "            Inception(192, (96, 208), (16, 48), 64),\n",
    "            Inception(160, (112, 224), (24, 64), 64),\n",
    "            Inception(128, (128, 256), (24, 64), 64),\n",
    "            Inception(112, (144, 288), (32, 64), 64),\n",
    "            Inception(256, (160, 320), (32, 128), 128),\n",
    "            nn.MaxPool2d(kernel_size=3, stride=2, padding=1)\n",
    "        )\n",
    "        self.neck_3 = nn.Sequential(\n",
    "            Inception(256, (160, 320), (32, 128), 128),\n",
    "            Inception(384, (192, 384), (48, 128), 128),\n",
    "            nn.AdaptiveAvgPool2d((1,1)),\n",
    "            nn.Flatten()\n",
    "        )\n",
    "        self.head = nn.Sequential(\n",
    "            nn.LazyLinear(num_classes)\n",
    "        )\n",
    "        \n",
    "    def forward(self, x):\n",
    "        x = self.backbone_1(x)\n",
    "        x = self.backbone_2(x)\n",
    "        x = self.neck_1(x)\n",
    "        x = self.neck_2(x)\n",
    "        x = self.neck_3(x)\n",
    "        x = self.head(x)\n",
    "        return x"
   ]
  },
  {
   "cell_type": "code",
   "execution_count": 44,
   "metadata": {},
   "outputs": [],
   "source": [
    "X = torch.randn(10, 3, 28, 28)"
   ]
  },
  {
   "cell_type": "code",
   "execution_count": 45,
   "metadata": {},
   "outputs": [
    {
     "name": "stdout",
     "output_type": "stream",
     "text": [
      "tensor([[-1.9737e-01, -6.5973e-04, -4.5003e-02,  2.4237e-01, -4.4973e-01,\n",
      "         -7.8477e-02,  1.8349e-01, -3.9047e-01,  5.1757e-01,  4.5902e-01],\n",
      "        [-7.4174e-02, -2.1426e-01, -2.3938e-01, -3.4963e-01, -4.7464e-01,\n",
      "         -1.3004e-01,  4.1213e-01,  7.2614e-02,  4.6444e-01, -2.8055e-01],\n",
      "        [-4.3328e-02,  8.2026e-01, -2.7893e-01,  4.3066e-01,  5.2307e-01,\n",
      "         -1.2237e-01,  2.0621e-01, -1.4017e-01,  4.5774e-01,  2.5361e-01],\n",
      "        [ 1.7975e-01,  8.5689e-01, -7.2231e-01, -8.9433e-02,  1.7784e-01,\n",
      "          1.3084e-01,  3.0835e-01,  4.9903e-02,  4.2639e-01,  3.1438e-01],\n",
      "        [ 5.6343e-02, -8.2611e-02, -3.5372e-01,  9.2317e-01,  6.0609e-01,\n",
      "          3.2935e-01, -2.1700e-01, -3.5961e-01,  3.5112e-01,  4.6720e-01],\n",
      "        [-7.2575e-02, -2.5553e-01, -8.5229e-01,  3.6594e-01, -2.9135e-01,\n",
      "         -1.6591e-01,  8.0243e-01, -5.1526e-01,  3.0935e-01, -4.6002e-01],\n",
      "        [-2.2295e-01, -2.9023e-01,  7.1409e-01, -4.5263e-01,  2.7272e-01,\n",
      "          1.9450e-01,  5.9090e-01,  6.3874e-01,  4.7788e-01,  7.9928e-01],\n",
      "        [ 7.9841e-02,  7.0403e-02, -3.5539e-02,  1.6437e-01,  5.2164e-01,\n",
      "         -8.6421e-02,  1.4521e-01, -6.7972e-01,  2.5498e-01, -9.8938e-04],\n",
      "        [ 1.2644e-01,  2.5959e-01, -5.2448e-01,  6.3628e-01,  3.5586e-01,\n",
      "          1.1528e-01,  1.9782e-01, -7.2763e-01, -1.2429e-01,  9.3072e-01],\n",
      "        [-1.1659e-01, -5.6265e-01,  3.7191e-01, -2.2580e-01, -4.8209e-01,\n",
      "          1.2281e+00, -7.8105e-02,  1.9662e-01,  3.6787e-01,  6.4865e-02]],\n",
      "       grad_fn=<AddmmBackward0>)\n"
     ]
    }
   ],
   "source": [
    "model = GoogleNet(num_classes=10)\n",
    "out = model(X)\n",
    "print(out)"
   ]
  }
 ],
 "metadata": {
  "kernelspec": {
   "display_name": "Arch Exploration",
   "language": "python",
   "name": "python3"
  },
  "language_info": {
   "codemirror_mode": {
    "name": "ipython",
    "version": 3
   },
   "file_extension": ".py",
   "mimetype": "text/x-python",
   "name": "python",
   "nbconvert_exporter": "python",
   "pygments_lexer": "ipython3",
   "version": "3.10.6"
  }
 },
 "nbformat": 4,
 "nbformat_minor": 2
}

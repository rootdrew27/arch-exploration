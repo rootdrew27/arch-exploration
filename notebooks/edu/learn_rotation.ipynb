{
 "cells": [
  {
   "cell_type": "code",
   "execution_count": 2,
   "metadata": {},
   "outputs": [],
   "source": [
    "import torch\n",
    "import torch.nn as nn\n",
    "import torch.nn.functional as F\n",
    "import torch.optim as optim\n",
    "import torchvision\n",
    "import torchvision.models as models\n",
    "import torchvision.transforms as transforms\n",
    "from PIL import Image\n",
    "from io import BytesIO"
   ]
  },
  {
   "cell_type": "code",
   "execution_count": 115,
   "metadata": {},
   "outputs": [],
   "source": [
    "input = torch.randn(1, 3, 448, 448)"
   ]
  },
  {
   "cell_type": "code",
   "execution_count": 116,
   "metadata": {},
   "outputs": [],
   "source": [
    "yolo = YOLO()\n",
    "out = yolo(input)"
   ]
  },
  {
   "cell_type": "code",
   "execution_count": 2,
   "metadata": {},
   "outputs": [],
   "source": [
    "class NinetyDegrees(nn.Module):\n",
    "    def __init__(self):\n",
    "        super(NinetyDegrees, self).__init__()\n",
    "        self.linear = nn.Linear(2, 2, bias=False)\n",
    "        \n",
    "    def forward(self, x):\n",
    "        x = self.linear(x)\n",
    "        return x"
   ]
  },
  {
   "cell_type": "code",
   "execution_count": 3,
   "metadata": {},
   "outputs": [],
   "source": [
    "dataset = [torch.randn(1, 1, 2) for _ in range(20)]\n",
    "data1 = torch.tensor([[2.0, 1.0]])\n",
    "rot90 = torch.tensor([[0.0,1.0],[-1.0,0.0]])\n",
    "target = [data @ rot90.unsqueeze(0) for data in dataset]"
   ]
  },
  {
   "cell_type": "code",
   "execution_count": null,
   "metadata": {},
   "outputs": [],
   "source": [
    "dataset = [torch.tensor([[[1,2],[3,4]]]), torch.tensor([[[2,3],[4,5]]]), torch.tensor([[[7,8],[9,10]]])]\n",
    "\n",
    "targets = [torch.tensor([[[3,1],[4,2]]]), torch.tensor([[[4,2],[5,3]]]), torch.tensor([[[9,7],[10,8]]])]\n",
    "\n"
   ]
  },
  {
   "cell_type": "code",
   "execution_count": 4,
   "metadata": {},
   "outputs": [
    {
     "name": "stdout",
     "output_type": "stream",
     "text": [
      "tensor([[ 0.,  1.],\n",
      "        [-1.,  0.]])\n"
     ]
    }
   ],
   "source": [
    "print(rot90)"
   ]
  },
  {
   "cell_type": "code",
   "execution_count": 5,
   "metadata": {},
   "outputs": [],
   "source": [
    "net = NinetyDegrees()\n",
    "mse = torch.nn.MSELoss()\n",
    "opt = torch.optim.SGD(net.parameters(), lr=0.001, momentum=0.9)"
   ]
  },
  {
   "cell_type": "code",
   "execution_count": 7,
   "metadata": {},
   "outputs": [],
   "source": [
    "running_loss = 0"
   ]
  },
  {
   "cell_type": "code",
   "execution_count": 11,
   "metadata": {},
   "outputs": [],
   "source": [
    "\n",
    "for i in range(100):\n",
    "    \n",
    "    net.train(True)    \n",
    "    \n",
    "    tmp_loss = 0\n",
    "    for i, data in enumerate(dataset):\n",
    "        out = net(data)\n",
    "        tmp_loss += mse(out, target[i])\n",
    "    \n",
    "    loss = tmp_loss / len(dataset)\n",
    "    \n",
    "    opt.zero_grad()\n",
    "    loss.backward()\n",
    "    opt.step()\n",
    "    \n",
    "    running_loss += loss.item()\n",
    "    "
   ]
  },
  {
   "cell_type": "code",
   "execution_count": 12,
   "metadata": {},
   "outputs": [
    {
     "data": {
      "text/plain": [
       "tensor([[-0.0155,  0.9994],\n",
       "        [-0.9676, -0.0012]], grad_fn=<PermuteBackward0>)"
      ]
     },
     "execution_count": 12,
     "metadata": {},
     "output_type": "execute_result"
    }
   ],
   "source": [
    "[p for p in net.parameters()][0].T"
   ]
  }
 ],
 "metadata": {
  "kernelspec": {
   "display_name": "Python 3",
   "language": "python",
   "name": "python3"
  },
  "language_info": {
   "codemirror_mode": {
    "name": "ipython",
    "version": 3
   },
   "file_extension": ".py",
   "mimetype": "text/x-python",
   "name": "python",
   "nbconvert_exporter": "python",
   "pygments_lexer": "ipython3",
   "version": "3.10.6"
  }
 },
 "nbformat": 4,
 "nbformat_minor": 2
}

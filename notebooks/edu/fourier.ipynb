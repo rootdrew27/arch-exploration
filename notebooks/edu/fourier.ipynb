{
 "cells": [
  {
   "cell_type": "code",
   "execution_count": 3,
   "metadata": {},
   "outputs": [],
   "source": [
    "import torch\n",
    "import cv2 as cv"
   ]
  },
  {
   "cell_type": "code",
   "execution_count": 4,
   "metadata": {},
   "outputs": [
    {
     "data": {
      "text/plain": [
       "tensor([[[ 30,  46,  93],\n",
       "         [ 28,  44,  91],\n",
       "         [ 26,  42,  88],\n",
       "         ...,\n",
       "         [ 35,  41,  40],\n",
       "         [ 35,  40,  41],\n",
       "         [ 29,  34,  37]],\n",
       "\n",
       "        [[ 32,  48,  95],\n",
       "         [ 33,  49,  96],\n",
       "         [ 32,  48,  94],\n",
       "         ...,\n",
       "         [ 49,  56,  51],\n",
       "         [ 46,  53,  50],\n",
       "         [ 40,  47,  44]],\n",
       "\n",
       "        [[ 31,  47,  94],\n",
       "         [ 33,  49,  96],\n",
       "         [ 34,  50,  96],\n",
       "         ...,\n",
       "         [ 46,  54,  43],\n",
       "         [ 44,  52,  41],\n",
       "         [ 41,  49,  38]],\n",
       "\n",
       "        ...,\n",
       "\n",
       "        [[ 50,  74,  80],\n",
       "         [ 92, 123, 116],\n",
       "         [ 98, 135, 115],\n",
       "         ...,\n",
       "         [ 51,  63,  67],\n",
       "         [ 52,  67,  70],\n",
       "         [ 64,  78,  84]],\n",
       "\n",
       "        [[ 45,  67,  72],\n",
       "         [ 85, 113, 107],\n",
       "         [ 92, 127, 107],\n",
       "         ...,\n",
       "         [ 58,  67,  71],\n",
       "         [ 55,  65,  72],\n",
       "         [ 55,  65,  72]],\n",
       "\n",
       "        [[ 59,  80,  82],\n",
       "         [ 94, 121, 112],\n",
       "         [ 99, 131, 114],\n",
       "         ...,\n",
       "         [ 45,  49,  54],\n",
       "         [ 43,  46,  54],\n",
       "         [ 43,  46,  54]]], dtype=torch.uint8)"
      ]
     },
     "execution_count": 4,
     "metadata": {},
     "output_type": "execute_result"
    }
   ],
   "source": [
    "image = cv.imread('../Nighthawk.jpg')\n",
    "\n",
    "x = torch.tensor(image)\n",
    "\n"
   ]
  },
  {
   "cell_type": "code",
   "execution_count": 5,
   "metadata": {},
   "outputs": [
    {
     "data": {
      "text/plain": [
       "torch.Size([655, 1200, 3])"
      ]
     },
     "execution_count": 5,
     "metadata": {},
     "output_type": "execute_result"
    }
   ],
   "source": []
  }
 ],
 "metadata": {
  "kernelspec": {
   "display_name": "Arch Exploration",
   "language": "python",
   "name": "python3"
  },
  "language_info": {
   "codemirror_mode": {
    "name": "ipython",
    "version": 3
   },
   "file_extension": ".py",
   "mimetype": "text/x-python",
   "name": "python",
   "nbconvert_exporter": "python",
   "pygments_lexer": "ipython3",
   "version": "3.10.6"
  }
 },
 "nbformat": 4,
 "nbformat_minor": 2
}

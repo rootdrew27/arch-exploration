{
 "cells": [
  {
   "cell_type": "code",
   "execution_count": null,
   "metadata": {},
   "outputs": [],
   "source": [
    "# this notebooks demostrates deep learning applied to linear regression\n",
    "\n",
    "# notably, the difference between L2 loss and L1 loss should be considered"
   ]
  },
  {
   "cell_type": "code",
   "execution_count": 1,
   "metadata": {},
   "outputs": [],
   "source": [
    "import torch\n",
    "import torch.nn.functional as F\n",
    "\n"
   ]
  },
  {
   "cell_type": "code",
   "execution_count": 124,
   "metadata": {},
   "outputs": [],
   "source": [
    "X = torch.tensor([1,1], dtype=torch.float)\n",
    "W = torch.tensor([[3,2], [2,2]], dtype=torch.float, requires_grad=True)\n",
    "Y = torch.tensor([3,3], dtype=torch.float)\n",
    "\n",
    "a = X @ W \n",
    "\n",
    "# l = torch.pow(torch.pow((X - Y), 2).sum(-1), .5)\n",
    "# l = torch.abs(a - Y).sum(-1)\n",
    "l = F.mse_loss(a, Y)\n"
   ]
  },
  {
   "cell_type": "code",
   "execution_count": 125,
   "metadata": {},
   "outputs": [
    {
     "data": {
      "text/plain": [
       "tensor([5., 4.], grad_fn=<SqueezeBackward4>)"
      ]
     },
     "execution_count": 125,
     "metadata": {},
     "output_type": "execute_result"
    }
   ],
   "source": [
    "a"
   ]
  },
  {
   "cell_type": "code",
   "execution_count": 126,
   "metadata": {},
   "outputs": [],
   "source": [
    "l.backward()"
   ]
  },
  {
   "cell_type": "code",
   "execution_count": 127,
   "metadata": {},
   "outputs": [
    {
     "data": {
      "text/plain": [
       "tensor(2.5000, grad_fn=<MseLossBackward0>)"
      ]
     },
     "execution_count": 127,
     "metadata": {},
     "output_type": "execute_result"
    }
   ],
   "source": [
    "l"
   ]
  },
  {
   "cell_type": "code",
   "execution_count": 128,
   "metadata": {},
   "outputs": [
    {
     "name": "stdout",
     "output_type": "stream",
     "text": [
      "tensor([[3., 2.],\n",
      "        [2., 2.]], requires_grad=True)\n",
      "\n",
      "\n",
      "tensor([[2., 1.],\n",
      "        [2., 1.]])\n"
     ]
    }
   ],
   "source": [
    "print(W)\n",
    "print('\\n')\n",
    "print(W.grad)\n"
   ]
  }
 ],
 "metadata": {
  "kernelspec": {
   "display_name": "Arch Exploration",
   "language": "python",
   "name": "python3"
  },
  "language_info": {
   "codemirror_mode": {
    "name": "ipython",
    "version": 3
   },
   "file_extension": ".py",
   "mimetype": "text/x-python",
   "name": "python",
   "nbconvert_exporter": "python",
   "pygments_lexer": "ipython3",
   "version": "3.10.6"
  }
 },
 "nbformat": 4,
 "nbformat_minor": 2
}
